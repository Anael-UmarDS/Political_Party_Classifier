{
  "nbformat": 4,
  "nbformat_minor": 0,
  "metadata": {
    "colab": {
      "provenance": []
    },
    "kernelspec": {
      "name": "python3",
      "display_name": "Python 3"
    },
    "language_info": {
      "name": "python"
    }
  },
  "cells": [
    {
      "cell_type": "markdown",
      "source": [
        "# Political Party Classifier Using Tweets  \n",
        "**Author**: Anael Umar  \n",
        "**GitHub:** [Anael-UmarDS](https://github.com/Anael-UmarDS)\n",
        "\n",
        "---\n",
        "\n",
        "# Description\n",
        "\n",
        "This project classifies tweets written by US politicians as either **Democratic** or **Republican**, using a **supervised machine learning approach**. Tweets are processed with **TF-IDF vectorization**, and a **Logistic Regression classifier** is trained to predict the political party based solely on the tweet's content. This project demonstrates real-world **natural language processing (NLP)**, **feature engineering**, and **binary classification**, applied to political data.\n",
        "\n",
        "---\n",
        "\n",
        "# Objectives\n",
        "\n",
        "- Use **supervised learning** to **classify** political tweets into Democratic or Republican categories  \n",
        "- Understand how **political language differs by party affiliation**\n",
        "- Build a clean, interpretable **machine learning pipeline** using scikit-learn  \n",
        "- **Apply NLP** techniques on real-world, publicly available tweet data  \n",
        "- Develop skills in **preprocessing, feature extraction, and model evaluation**\n",
        "- Explores how **data science** intersects with **government and civic technology**\n",
        "\n",
        "---\n",
        "\n",
        "# Source of Datasets\n",
        "\n",
        "[Kaggle Dataset for **dataset.csv**](https://www.kaggle.com/datasets/mrmorj/us-politicians-twitter-dataset)\n",
        "\n",
        "[Kaggle Dataset for **us_tweets.csv**](https://www.kaggle.com/datasets/jeevanbhoot/tweets-from-us-politicians)\n",
        "\n",
        "---\n",
        "# How It Works\n",
        "\n",
        "### Data Preparation  \n",
        "- Tweets were gathered from U.S. politicians, merged with a dataset containing each user's party affiliation  \n",
        "- Only tweets from **Democratic Party** and **Republican Party** members were retained  \n",
        "- Merged dataset included:  \n",
        "  - `Name`, `Twitter_username`, `Political_party`, and `text`\n",
        "\n",
        "### Text Preprocessing  \n",
        "Each tweet undergoes data cleaning:\n",
        "- Lowercasing  \n",
        "- Removing URLs, mentions, hashtags, and punctuation  \n",
        "- Removing common stopwords  \n",
        "- Final cleaned text is stored for vectorization\n",
        "\n",
        "### Feature Extraction (TF-IDF)  \n",
        "- **TfidfVectorizer** converts each cleaned tweet into a **feature vector**\n",
        "- Captures the **importance** of each word **relative** to the **entire dataset**\n",
        "\n",
        "### Model Training (Logistic Regression)  \n",
        "- Binary labels:\n",
        "  - **Democratic Party**\n",
        "  - **Republican Party**\n",
        "- Model is trained using **LogisticRegression** from scikit-learn  \n",
        "\n",
        "---\n",
        "\n",
        "# Example Use Cases\n",
        "\n",
        "- **Civic Tech**: Understand how politicians from different parties frame similar topics  \n",
        "- **Political Science Research**: Study the linguistic differences in party messaging  \n",
        "- **Media Literacy**: Recognize bias through language cues\n",
        "\n",
        "---\n",
        "\n",
        "# Visualizations\n",
        "\n",
        "- **Confusion Matrix** for evaluating prediction accuracy  \n",
        "- **Word importance** (TF-IDF weights) by class\n",
        "- **Sample predictions** of tweet text with predicted party label  \n",
        "\n",
        "---\n",
        "\n",
        "# Limitations\n",
        "\n",
        "- **Dataset Bias**: Only includes verified U.S. politicians; may not generalize to regular users  \n",
        "- **Context Missing**: A single tweet may not represent a user's overall ideology  \n",
        "- **Imbalanced Data**: Class imbalance can affect generalization (requires resampling if necessary)  \n",
        "- **Linguistic Ambiguity**: Some tweets may appear neutral but still hold ideological undertones  \n",
        "\n",
        "---"
      ],
      "metadata": {
        "id": "Dg2FkKC31ooJ"
      }
    },
    {
      "cell_type": "markdown",
      "source": [
        "# Importing Libraries"
      ],
      "metadata": {
        "id": "6FyLa_H62HWs"
      }
    },
    {
      "cell_type": "code",
      "source": [
        "# Import required libraries\n",
        "\n",
        "import pandas as pd                                                                             # Used for data manipulation and analysis\n",
        "import numpy as np                                                                              # Used to store data in multi-dimensional arrays\n",
        "import matplotlib.pyplot as plt                                                                 # Used to illustrate data as plots or graphs\n",
        "import joblib                                                                                   # Used to run large computations and efficiently handle them\n",
        "from collections import Counter                                                                 # Used to iterate through hashable objects\n",
        "from typing import List                                                                         # Used to indicate the expected types of variables, function parameters, and return values\n",
        "from nltk.sentiment import SentimentIntensityAnalyzer                                           # Give a sentiment intensity score to sentences\n",
        "from sklearn.feature_extraction.text import TfidfVectorizer                                     # Convert a collection of raw documents to a matrix of TF-IDF features\n",
        "from sklearn.linear_model import LogisticRegression                                             # Used for multi-class classification problems\n",
        "from sklearn.metrics import accuracy_score, classification_report, confusion_matrix             # Used for the accuracy of a classification model, a text report showing the main classification metrics for each class, computing a confusion matrix, respectively\n",
        "from sklearn.model_selection import train_test_split                                            # Split arrays or matrices into random train and test subsets\n",
        "import nltk                                                                                     # Used for working with Natural Language Processing (NLP)\n",
        "from nltk.corpus import stopwords                                                               # Used for identifying and removing stopwords\n",
        "from textblob import TextBlob                                                                   # Used for processing textual data\n",
        "import re                                                                                       # Used for regular expression\n",
        "\n",
        "nltk.download(\"stopwords\")                                                                      # Using NLTK Library to download stopwords, filler words like \"the\", \"a\", etc.\n",
        "stop_words = set(stopwords.words(\"english\"))                                                    # Set language to english"
      ],
      "metadata": {
        "id": "XpEhEEIl2GqD"
      },
      "execution_count": 22,
      "outputs": []
    },
    {
      "cell_type": "markdown",
      "source": [
        "# Merging Relevant Data"
      ],
      "metadata": {
        "id": "tA9N1lsJwJAQ"
      }
    },
    {
      "cell_type": "code",
      "execution_count": 19,
      "metadata": {
        "id": "p6P6i5Y29VE5"
      },
      "outputs": [],
      "source": [
        "dataset = pd.read_csv(\"dataset.csv\")\n",
        "#dataset.head()"
      ]
    },
    {
      "cell_type": "code",
      "source": [
        "us_tweets = pd.read_csv(\"us_tweets.csv\")\n",
        "#us_tweets.head()"
      ],
      "metadata": {
        "id": "ulCRrW6yyuZ3"
      },
      "execution_count": 20,
      "outputs": []
    },
    {
      "cell_type": "code",
      "source": [
        "# Filtering data for the two-party system\n",
        "df = dataset[(dataset[\"Political_party\"]==\"Democratic Party\") | (dataset[\"Political_party\"]==\"Republican Party\")].copy()"
      ],
      "metadata": {
        "id": "mwK__Za_J6-H"
      },
      "execution_count": 4,
      "outputs": []
    },
    {
      "cell_type": "code",
      "source": [
        "cols = [\"Name\", \"Twitter_username\",\"Political_party\"]\n",
        "df = df[cols]\n",
        "df = df.dropna(subset=[\"Name\", \"Twitter_username\", \"Political_party\"])"
      ],
      "metadata": {
        "id": "39o65F0VK55U"
      },
      "execution_count": 5,
      "outputs": []
    },
    {
      "cell_type": "code",
      "source": [
        "text_column = us_tweets[\"text\"]"
      ],
      "metadata": {
        "id": "Fm2ANUzpwYqD"
      },
      "execution_count": 6,
      "outputs": []
    },
    {
      "cell_type": "code",
      "source": [
        "merged_df = pd.merge(df, us_tweets, on=\"Twitter_username\", how=\"inner\")\n",
        "\n",
        "cols = [\"Name\", \"Twitter_username\", \"text\", \"Political_party\"]\n",
        "\n",
        "merged_df = merged_df[cols]\n",
        "merged_df = merged_df.dropna(subset=cols)"
      ],
      "metadata": {
        "id": "KC8DQCCx08kF"
      },
      "execution_count": 7,
      "outputs": []
    },
    {
      "cell_type": "code",
      "source": [
        "df = merged_df\n",
        "df = df.copy()\n",
        "# df.head(n=41) shows us that every 40 rows is dedicated to one policymaker\n",
        "df.head()"
      ],
      "metadata": {
        "id": "i219bdkgyhOm",
        "outputId": "ac155ace-4212-4c7b-8b2e-689746d3c6e2",
        "colab": {
          "base_uri": "https://localhost:8080/",
          "height": 206
        }
      },
      "execution_count": 8,
      "outputs": [
        {
          "output_type": "execute_result",
          "data": {
            "text/plain": [
              "                 Name Twitter_username  \\\n",
              "0  A. Donald McEachin      RepMcEachin   \n",
              "1  A. Donald McEachin      RepMcEachin   \n",
              "2  A. Donald McEachin      RepMcEachin   \n",
              "3  A. Donald McEachin      RepMcEachin   \n",
              "4  A. Donald McEachin      RepMcEachin   \n",
              "\n",
              "                                                text   Political_party  \n",
              "0  It is truly heartbreaking to learn of the deat...  Democratic Party  \n",
              "1  I am joining my colleagues @davidcicilline @Re...  Democratic Party  \n",
              "2  Yesterday a mob of insurrectionists breached t...  Democratic Party  \n",
              "3  Today’s violent riot at the U.S. Capitol was a...  Democratic Party  \n",
              "4  Either President Trump needs to be immediately...  Democratic Party  "
            ],
            "text/html": [
              "\n",
              "  <div id=\"df-097ef20d-4671-4359-8ab3-9551cd470d3c\" class=\"colab-df-container\">\n",
              "    <div>\n",
              "<style scoped>\n",
              "    .dataframe tbody tr th:only-of-type {\n",
              "        vertical-align: middle;\n",
              "    }\n",
              "\n",
              "    .dataframe tbody tr th {\n",
              "        vertical-align: top;\n",
              "    }\n",
              "\n",
              "    .dataframe thead th {\n",
              "        text-align: right;\n",
              "    }\n",
              "</style>\n",
              "<table border=\"1\" class=\"dataframe\">\n",
              "  <thead>\n",
              "    <tr style=\"text-align: right;\">\n",
              "      <th></th>\n",
              "      <th>Name</th>\n",
              "      <th>Twitter_username</th>\n",
              "      <th>text</th>\n",
              "      <th>Political_party</th>\n",
              "    </tr>\n",
              "  </thead>\n",
              "  <tbody>\n",
              "    <tr>\n",
              "      <th>0</th>\n",
              "      <td>A. Donald McEachin</td>\n",
              "      <td>RepMcEachin</td>\n",
              "      <td>It is truly heartbreaking to learn of the deat...</td>\n",
              "      <td>Democratic Party</td>\n",
              "    </tr>\n",
              "    <tr>\n",
              "      <th>1</th>\n",
              "      <td>A. Donald McEachin</td>\n",
              "      <td>RepMcEachin</td>\n",
              "      <td>I am joining my colleagues @davidcicilline @Re...</td>\n",
              "      <td>Democratic Party</td>\n",
              "    </tr>\n",
              "    <tr>\n",
              "      <th>2</th>\n",
              "      <td>A. Donald McEachin</td>\n",
              "      <td>RepMcEachin</td>\n",
              "      <td>Yesterday a mob of insurrectionists breached t...</td>\n",
              "      <td>Democratic Party</td>\n",
              "    </tr>\n",
              "    <tr>\n",
              "      <th>3</th>\n",
              "      <td>A. Donald McEachin</td>\n",
              "      <td>RepMcEachin</td>\n",
              "      <td>Today’s violent riot at the U.S. Capitol was a...</td>\n",
              "      <td>Democratic Party</td>\n",
              "    </tr>\n",
              "    <tr>\n",
              "      <th>4</th>\n",
              "      <td>A. Donald McEachin</td>\n",
              "      <td>RepMcEachin</td>\n",
              "      <td>Either President Trump needs to be immediately...</td>\n",
              "      <td>Democratic Party</td>\n",
              "    </tr>\n",
              "  </tbody>\n",
              "</table>\n",
              "</div>\n",
              "    <div class=\"colab-df-buttons\">\n",
              "\n",
              "  <div class=\"colab-df-container\">\n",
              "    <button class=\"colab-df-convert\" onclick=\"convertToInteractive('df-097ef20d-4671-4359-8ab3-9551cd470d3c')\"\n",
              "            title=\"Convert this dataframe to an interactive table.\"\n",
              "            style=\"display:none;\">\n",
              "\n",
              "  <svg xmlns=\"http://www.w3.org/2000/svg\" height=\"24px\" viewBox=\"0 -960 960 960\">\n",
              "    <path d=\"M120-120v-720h720v720H120Zm60-500h600v-160H180v160Zm220 220h160v-160H400v160Zm0 220h160v-160H400v160ZM180-400h160v-160H180v160Zm440 0h160v-160H620v160ZM180-180h160v-160H180v160Zm440 0h160v-160H620v160Z\"/>\n",
              "  </svg>\n",
              "    </button>\n",
              "\n",
              "  <style>\n",
              "    .colab-df-container {\n",
              "      display:flex;\n",
              "      gap: 12px;\n",
              "    }\n",
              "\n",
              "    .colab-df-convert {\n",
              "      background-color: #E8F0FE;\n",
              "      border: none;\n",
              "      border-radius: 50%;\n",
              "      cursor: pointer;\n",
              "      display: none;\n",
              "      fill: #1967D2;\n",
              "      height: 32px;\n",
              "      padding: 0 0 0 0;\n",
              "      width: 32px;\n",
              "    }\n",
              "\n",
              "    .colab-df-convert:hover {\n",
              "      background-color: #E2EBFA;\n",
              "      box-shadow: 0px 1px 2px rgba(60, 64, 67, 0.3), 0px 1px 3px 1px rgba(60, 64, 67, 0.15);\n",
              "      fill: #174EA6;\n",
              "    }\n",
              "\n",
              "    .colab-df-buttons div {\n",
              "      margin-bottom: 4px;\n",
              "    }\n",
              "\n",
              "    [theme=dark] .colab-df-convert {\n",
              "      background-color: #3B4455;\n",
              "      fill: #D2E3FC;\n",
              "    }\n",
              "\n",
              "    [theme=dark] .colab-df-convert:hover {\n",
              "      background-color: #434B5C;\n",
              "      box-shadow: 0px 1px 3px 1px rgba(0, 0, 0, 0.15);\n",
              "      filter: drop-shadow(0px 1px 2px rgba(0, 0, 0, 0.3));\n",
              "      fill: #FFFFFF;\n",
              "    }\n",
              "  </style>\n",
              "\n",
              "    <script>\n",
              "      const buttonEl =\n",
              "        document.querySelector('#df-097ef20d-4671-4359-8ab3-9551cd470d3c button.colab-df-convert');\n",
              "      buttonEl.style.display =\n",
              "        google.colab.kernel.accessAllowed ? 'block' : 'none';\n",
              "\n",
              "      async function convertToInteractive(key) {\n",
              "        const element = document.querySelector('#df-097ef20d-4671-4359-8ab3-9551cd470d3c');\n",
              "        const dataTable =\n",
              "          await google.colab.kernel.invokeFunction('convertToInteractive',\n",
              "                                                    [key], {});\n",
              "        if (!dataTable) return;\n",
              "\n",
              "        const docLinkHtml = 'Like what you see? Visit the ' +\n",
              "          '<a target=\"_blank\" href=https://colab.research.google.com/notebooks/data_table.ipynb>data table notebook</a>'\n",
              "          + ' to learn more about interactive tables.';\n",
              "        element.innerHTML = '';\n",
              "        dataTable['output_type'] = 'display_data';\n",
              "        await google.colab.output.renderOutput(dataTable, element);\n",
              "        const docLink = document.createElement('div');\n",
              "        docLink.innerHTML = docLinkHtml;\n",
              "        element.appendChild(docLink);\n",
              "      }\n",
              "    </script>\n",
              "  </div>\n",
              "\n",
              "\n",
              "    <div id=\"df-d30ecb1d-512c-4d28-8bed-95cfcbf354cd\">\n",
              "      <button class=\"colab-df-quickchart\" onclick=\"quickchart('df-d30ecb1d-512c-4d28-8bed-95cfcbf354cd')\"\n",
              "                title=\"Suggest charts\"\n",
              "                style=\"display:none;\">\n",
              "\n",
              "<svg xmlns=\"http://www.w3.org/2000/svg\" height=\"24px\"viewBox=\"0 0 24 24\"\n",
              "     width=\"24px\">\n",
              "    <g>\n",
              "        <path d=\"M19 3H5c-1.1 0-2 .9-2 2v14c0 1.1.9 2 2 2h14c1.1 0 2-.9 2-2V5c0-1.1-.9-2-2-2zM9 17H7v-7h2v7zm4 0h-2V7h2v10zm4 0h-2v-4h2v4z\"/>\n",
              "    </g>\n",
              "</svg>\n",
              "      </button>\n",
              "\n",
              "<style>\n",
              "  .colab-df-quickchart {\n",
              "      --bg-color: #E8F0FE;\n",
              "      --fill-color: #1967D2;\n",
              "      --hover-bg-color: #E2EBFA;\n",
              "      --hover-fill-color: #174EA6;\n",
              "      --disabled-fill-color: #AAA;\n",
              "      --disabled-bg-color: #DDD;\n",
              "  }\n",
              "\n",
              "  [theme=dark] .colab-df-quickchart {\n",
              "      --bg-color: #3B4455;\n",
              "      --fill-color: #D2E3FC;\n",
              "      --hover-bg-color: #434B5C;\n",
              "      --hover-fill-color: #FFFFFF;\n",
              "      --disabled-bg-color: #3B4455;\n",
              "      --disabled-fill-color: #666;\n",
              "  }\n",
              "\n",
              "  .colab-df-quickchart {\n",
              "    background-color: var(--bg-color);\n",
              "    border: none;\n",
              "    border-radius: 50%;\n",
              "    cursor: pointer;\n",
              "    display: none;\n",
              "    fill: var(--fill-color);\n",
              "    height: 32px;\n",
              "    padding: 0;\n",
              "    width: 32px;\n",
              "  }\n",
              "\n",
              "  .colab-df-quickchart:hover {\n",
              "    background-color: var(--hover-bg-color);\n",
              "    box-shadow: 0 1px 2px rgba(60, 64, 67, 0.3), 0 1px 3px 1px rgba(60, 64, 67, 0.15);\n",
              "    fill: var(--button-hover-fill-color);\n",
              "  }\n",
              "\n",
              "  .colab-df-quickchart-complete:disabled,\n",
              "  .colab-df-quickchart-complete:disabled:hover {\n",
              "    background-color: var(--disabled-bg-color);\n",
              "    fill: var(--disabled-fill-color);\n",
              "    box-shadow: none;\n",
              "  }\n",
              "\n",
              "  .colab-df-spinner {\n",
              "    border: 2px solid var(--fill-color);\n",
              "    border-color: transparent;\n",
              "    border-bottom-color: var(--fill-color);\n",
              "    animation:\n",
              "      spin 1s steps(1) infinite;\n",
              "  }\n",
              "\n",
              "  @keyframes spin {\n",
              "    0% {\n",
              "      border-color: transparent;\n",
              "      border-bottom-color: var(--fill-color);\n",
              "      border-left-color: var(--fill-color);\n",
              "    }\n",
              "    20% {\n",
              "      border-color: transparent;\n",
              "      border-left-color: var(--fill-color);\n",
              "      border-top-color: var(--fill-color);\n",
              "    }\n",
              "    30% {\n",
              "      border-color: transparent;\n",
              "      border-left-color: var(--fill-color);\n",
              "      border-top-color: var(--fill-color);\n",
              "      border-right-color: var(--fill-color);\n",
              "    }\n",
              "    40% {\n",
              "      border-color: transparent;\n",
              "      border-right-color: var(--fill-color);\n",
              "      border-top-color: var(--fill-color);\n",
              "    }\n",
              "    60% {\n",
              "      border-color: transparent;\n",
              "      border-right-color: var(--fill-color);\n",
              "    }\n",
              "    80% {\n",
              "      border-color: transparent;\n",
              "      border-right-color: var(--fill-color);\n",
              "      border-bottom-color: var(--fill-color);\n",
              "    }\n",
              "    90% {\n",
              "      border-color: transparent;\n",
              "      border-bottom-color: var(--fill-color);\n",
              "    }\n",
              "  }\n",
              "</style>\n",
              "\n",
              "      <script>\n",
              "        async function quickchart(key) {\n",
              "          const quickchartButtonEl =\n",
              "            document.querySelector('#' + key + ' button');\n",
              "          quickchartButtonEl.disabled = true;  // To prevent multiple clicks.\n",
              "          quickchartButtonEl.classList.add('colab-df-spinner');\n",
              "          try {\n",
              "            const charts = await google.colab.kernel.invokeFunction(\n",
              "                'suggestCharts', [key], {});\n",
              "          } catch (error) {\n",
              "            console.error('Error during call to suggestCharts:', error);\n",
              "          }\n",
              "          quickchartButtonEl.classList.remove('colab-df-spinner');\n",
              "          quickchartButtonEl.classList.add('colab-df-quickchart-complete');\n",
              "        }\n",
              "        (() => {\n",
              "          let quickchartButtonEl =\n",
              "            document.querySelector('#df-d30ecb1d-512c-4d28-8bed-95cfcbf354cd button');\n",
              "          quickchartButtonEl.style.display =\n",
              "            google.colab.kernel.accessAllowed ? 'block' : 'none';\n",
              "        })();\n",
              "      </script>\n",
              "    </div>\n",
              "\n",
              "    </div>\n",
              "  </div>\n"
            ],
            "application/vnd.google.colaboratory.intrinsic+json": {
              "type": "dataframe",
              "variable_name": "df"
            }
          },
          "metadata": {},
          "execution_count": 8
        }
      ]
    },
    {
      "cell_type": "markdown",
      "source": [
        "# Cleaning and Preparing Data for Training and Evaluation"
      ],
      "metadata": {
        "id": "aWA1ECJk1vWz"
      }
    },
    {
      "cell_type": "code",
      "source": [
        "# Clean data to lowercase and no blanks\n",
        "# Helper function\n",
        "\n",
        "def basic_text_clean(text: str) -> str:\n",
        "\n",
        "    text = text.lower().strip()\n",
        "\n",
        "    # Remove URLs\n",
        "    text = re.sub(r'http\\S+|www\\S+|https\\S+', '', text, flags=re.MULTILINE)\n",
        "\n",
        "    # Remove mentions (@username)\n",
        "    text = re.sub(r'@\\w+', '', text)\n",
        "\n",
        "    # Remove hashtags (#hashtag)\n",
        "    text = re.sub(r'#\\w+', '', text)\n",
        "\n",
        "    # Remove special characters and punctuation, keeping only alphanumeric and spaces\n",
        "    text = re.sub(r'[^a-zA-Z0-9\\s]', '', text)\n",
        "\n",
        "    # Remove extra spaces\n",
        "    text = re.sub(r'\\s+', ' ', text).strip()\n",
        "\n",
        "    words = []\n",
        "    for word in text.split():\n",
        "      if word.isalpha() and word not in stop_words:\n",
        "        words.append(word)\n",
        "\n",
        "    return ' '.join(words)"
      ],
      "metadata": {
        "id": "YVG9Oi-f14bC"
      },
      "execution_count": 9,
      "outputs": []
    },
    {
      "cell_type": "code",
      "source": [
        "# Clean Pandas DataFrame using helper function\n",
        "\n",
        "def prepare_features(df: pd.DataFrame):\n",
        "    raw_text = df[\"text\"].apply(basic_text_clean)\n",
        "    label = df[\"Political_party\"]\n",
        "    return raw_text, label"
      ],
      "metadata": {
        "id": "Legt_StW2dHi"
      },
      "execution_count": 10,
      "outputs": []
    },
    {
      "cell_type": "markdown",
      "source": [
        "# Using a Training Model to Classify Ideology Based on Text and Political Party"
      ],
      "metadata": {
        "id": "_jGDDLOHv844"
      }
    },
    {
      "cell_type": "code",
      "source": [
        "# Labels for classification\n",
        "\n",
        "LABELS = [\"Democratic Party\", \"Republican Party\"]"
      ],
      "metadata": {
        "id": "cXWEvjxNVy94"
      },
      "execution_count": 11,
      "outputs": []
    },
    {
      "cell_type": "code",
      "source": [
        "# Training function to train the model to classify tweets\n",
        "# TF-IDF (Term Frequency - Inverse Document Frequency)\n",
        "# TF: Term Frequency: number of times the term appears in a document compared to the total number of words in the document\n",
        "# IDF: Inverse Document Frequency: ratio of total number of documents to number of documents containing the term\n",
        "# Uses TF-IDF Sentiment Weightage System: TF-IDF = TF * IDF\n",
        "# Low TF-IDF indicates a high frequency of a term\n",
        "# Logistic regression: statistical analysis method used to predict a binomial outcome\n",
        "\n",
        "def train_model(raw_text, label):\n",
        "\n",
        "  vectorizer = TfidfVectorizer(max_features=6000, ngram_range=(1, 2))                                           # Tokenize the text into numerical features\n",
        "  raw_text_vec = vectorizer.fit_transform(raw_text)                                                             # Fit the vectorizer to raw_text and transform it (evaluating how important the word is to the document)\n",
        "  model = LogisticRegression(max_iter=2000, n_jobs=-1, class_weight=\"balanced\", random_state=42)                # Initialize a Logistic Regression model for classification\n",
        "\n",
        "  model.fit(raw_text_vec, label)                                                                                # Train the Logistic Regression model using the vectorized training features for raw_text and their corresponding labels of Political_party\n",
        "  return model, vectorizer                                                                                      # Return trained model and numerical features"
      ],
      "metadata": {
        "id": "fB0BqETE9jWr"
      },
      "execution_count": 12,
      "outputs": []
    },
    {
      "cell_type": "code",
      "source": [
        "# Predicts party for each tweet based on TF-IDF weight\n",
        "\n",
        "def predict(model, vectorizer, political_party: List[str]):\n",
        "    cleaned = [basic_text_clean(tweet) for tweet in political_party]\n",
        "    return model.predict(vectorizer.transform(cleaned))"
      ],
      "metadata": {
        "id": "837YzPKHT7WU"
      },
      "execution_count": 13,
      "outputs": []
    },
    {
      "cell_type": "code",
      "source": [
        "# Evaluation of the model by calculating the accuracy of predictions and calling plot_confusion_matrix\n",
        "# Calculates precision, recall, and trade-off rate of precision and recall (f1-score)\n",
        "\n",
        "def evaluate_model(model, vectorizer, X_test, y_test):\n",
        "    X_test_vec = vectorizer.transform(X_test)\n",
        "    y_pred = model.predict(X_test_vec)\n",
        "    print(\"\\nEvaluation:\")\n",
        "    print(f\"Accuracy: {accuracy_score(y_test, y_pred):.3f}\\n\")\n",
        "    print(classification_report(y_test, y_pred, digits=3))\n",
        "    cm = confusion_matrix(y_test, y_pred, labels=LABELS)\n",
        "    plot_confusion_matrix(cm)"
      ],
      "metadata": {
        "id": "p0vabFXuUuaU"
      },
      "execution_count": 14,
      "outputs": []
    },
    {
      "cell_type": "markdown",
      "source": [
        "# Visualization"
      ],
      "metadata": {
        "id": "90GFrUPuU230"
      }
    },
    {
      "cell_type": "code",
      "source": [
        "# Plots confusion matrix that compares true labels vs assigned labels\n",
        "# And saves as an image called \"confusion_matrix.png\"\n",
        "\n",
        "def plot_confusion_matrix(cm: np.ndarray):\n",
        "    fig, ax = plt.subplots(figsize=(6, 4))\n",
        "    im = ax.imshow(cm, interpolation=\"nearest\", cmap=\"Blues\")\n",
        "    ax.figure.colorbar(im, ax=ax)\n",
        "    ax.set(xticks=np.arange(len(LABELS)),\n",
        "           yticks=np.arange(len(LABELS)),\n",
        "           xticklabels=LABELS,\n",
        "           yticklabels=LABELS,\n",
        "           ylabel=\"True label\",\n",
        "           xlabel=\"Predicted label\",\n",
        "           title=\"Confusion Matrix\")\n",
        "    plt.setp(ax.get_xticklabels(), rotation=45, ha=\"right\")\n",
        "    for i in range(cm.shape[0]):\n",
        "        for j in range(cm.shape[1]):\n",
        "            ax.text(j, i, format(cm[i, j], \"d\"), ha=\"center\", va=\"center\", color=\"black\")\n",
        "    fig.tight_layout()\n",
        "    plt.savefig(\"confusion_matrix.png\", dpi=300)\n",
        "    plt.close()\n",
        "    print(\"Confusion matrix saved → confusion_matrix.png\")"
      ],
      "metadata": {
        "id": "iSHgV1VfU5BK"
      },
      "execution_count": 15,
      "outputs": []
    },
    {
      "cell_type": "code",
      "source": [
        "# Efficiently save the models using joblib\n",
        "\n",
        "def save_artifacts(model, vectorizer):\n",
        "    joblib.dump(model, \"text_model.joblib\")\n",
        "    joblib.dump(vectorizer, \"tfidf_vectorizer.joblib\")\n",
        "    print(\"Model artifacts saved\")"
      ],
      "metadata": {
        "id": "2inYQms6W4p9"
      },
      "execution_count": 16,
      "outputs": []
    },
    {
      "cell_type": "markdown",
      "source": [
        "# Main Function"
      ],
      "metadata": {
        "id": "c2MYD-y5XD7J"
      }
    },
    {
      "cell_type": "code",
      "source": [
        "# Main Running Function\n",
        "\n",
        "def main():\n",
        "\n",
        "  # Print how many tweets are of each of the two major political party labels\n",
        "  print(\"Class distribution:\", dict(Counter(df[\"Political_party\"])))\n",
        "\n",
        "  # Clean data and prepare for training\n",
        "  # Implement stratified random sampling\n",
        "  # Stratified random sampling splits data into subsets\n",
        "  # and randomly chooses each from there until None are left\n",
        "\n",
        "  X, Y = prepare_features(df)\n",
        "  min_class_size = min(Counter(Y).values())\n",
        "  can_stratify = min_class_size >= 2\n",
        "\n",
        "  X_train, X_test, Y_train, Y_test = train_test_split(\n",
        "      X, Y, test_size=0.1, stratify=Y if can_stratify else None, random_state=42\n",
        "  )\n",
        "\n",
        "  # Train model (see function documentation comments on how)\n",
        "  model, vectorizer = train_model(X_train, Y_train)\n",
        "\n",
        "  # Evaluate model (see function documentation comments on how)\n",
        "  evaluate_model(model, vectorizer, X_test, Y_test)\n",
        "\n",
        "  # Save models using save_artifact (see function documentation comments on how)\n",
        "  save_artifacts(model, vectorizer)\n",
        "\n",
        "  # List of fake demo tweets randomly generated by Google Gemini\n",
        "  demo_tweets = [\n",
        "    \"Biden's spending spree is driving inflation and hurting American families. We need fiscal responsibility and policies that empower businesses, not burden them with regulations. #CutSpending #LowerTaxes\",\n",
        "    \"Standing with working families tonight. We need to raise the minimum wage, protect collective bargaining rights, and build an economy that works for everyone, not just the wealthy few. #WorkersRights #FairWage\",\n",
        "    \"Our border is in crisis. We must secure our sovereignty, support our brave border patrol agents, and enforce our laws to protect our nation. #SecureOurBorders #NationalSecurity\",\n",
        "    \"Honored to meet with brave law enforcement officers today. We must always support those who put their lives on the line to keep our communities safe. Back the Blue! #ThinBlueLine #SupportOurPolice\",\n",
        "    \"The American dream is built on hard work and opportunity. We need to unleash the power of the free market and empower entrepreneurs to create jobs and prosperity for all. #FreeMarket #AmericanDream\",\n",
        "    \"Proud to stand for individual liberty and personal responsibility. Government overreach stifles innovation and limits the freedom that makes America exceptional. #Freedom #LimitedGovernment\",\n",
        "    \"Climate change is an existential threat, and we can't afford to wait. Investing in renewable energy creates jobs and protects our planet for future generations. #GreenEconomy #ActOnClimate\",\n",
        "    \"Had a productive discussion with local educators today. We need to fully fund our public schools and ensure every student has the resources they need to succeed, regardless of zip code. #InvestInEducation #PublicSchools\",\n",
        "    \"Every family deserves access to affordable healthcare. It's not a privilege, it's a right. We must strengthen the ACA and expand coverage for all Americans. #HealthcareForAll #ACA\",\n",
        "    \"It's time to address systemic inequities in our justice system. We need comprehensive police reform and a focus on community-based solutions to build trust and ensure justice for all. #JusticeReform #Equality\"\n",
        "  ]\n",
        "\n",
        "  # Print Results\n",
        "  print(\"\\nDemo predictions:\")\n",
        "  for tweet, party in zip(demo_tweets, predict(model, vectorizer, demo_tweets)):\n",
        "      print(f\"[{party}] {tweet}\")"
      ],
      "metadata": {
        "id": "Wr4-Dr-2XHVe"
      },
      "execution_count": 17,
      "outputs": []
    },
    {
      "cell_type": "code",
      "source": [
        "# Run main()\n",
        "\n",
        "if __name__ == \"__main__\":\n",
        "  main()"
      ],
      "metadata": {
        "id": "4MGpxmZxXQ97"
      },
      "execution_count": 21,
      "outputs": []
    },
    {
      "cell_type": "markdown",
      "source": [
        "# Conclusions\n",
        "- **TF-IDF + Logistic Regression** performs well in classifying political party from tweet content\n",
        "- Simple **NLP methods** can reveal **deep political divisions** in language use\n",
        "- **Machine learning** can support **political discourse analysis, civic education, and transparency**\n",
        "\n",
        "# Implications\n",
        "### Government & Civics\n",
        "- Understand how **partisan messagin**g is framed\n",
        "- Provide **transparency** in political communication\n",
        "\n",
        "### Political Research\n",
        "- **Track** evolving **language by party** over time\n",
        "- Study **messaging strategy** and framing during election campaigns\n",
        "\n",
        "### AI & ML Development\n",
        "- Uses explainable **machine learning models** for interpretable **results**\n",
        "\n",
        "# Machine Learning Concepts\n",
        "- Supervised Learning\n",
        "- Binary Classification\n",
        "- Text Cleaning & Preprocessing\n",
        "- TF-IDF Feature Engineering\n",
        "- Logistic Regression\n",
        "- Label Encoding\n",
        "- Evaluation Metrics"
      ],
      "metadata": {
        "id": "iQonPmVX41er"
      }
    }
  ]
}